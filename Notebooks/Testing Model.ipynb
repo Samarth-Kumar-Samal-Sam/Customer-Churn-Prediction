{
 "cells": [
  {
   "cell_type": "markdown",
   "id": "32a6b7c0-1558-4edf-ad65-8295744cde33",
   "metadata": {},
   "source": [
    "#### Importing Python Libraries"
   ]
  },
  {
   "cell_type": "code",
   "execution_count": 1,
   "id": "a7a8a05a-ca88-40ac-9833-448ddec0a721",
   "metadata": {},
   "outputs": [],
   "source": [
    "import joblib\n",
    "import pandas as pd\n",
    "import matplotlib.pyplot as plt\n",
    "import seaborn as sns\n",
    "from sklearn.metrics import accuracy_score, classification_report,confusion_matrix\n",
    "import warnings\n",
    "warnings.filterwarnings('ignore')"
   ]
  },
  {
   "cell_type": "markdown",
   "id": "2a05aef8-10f9-4e02-b035-225b8c933eb7",
   "metadata": {},
   "source": [
    "#### Loading the Pipeline and Data"
   ]
  },
  {
   "cell_type": "code",
   "execution_count": 2,
   "id": "6c7bf27a-1bc1-423b-919a-07d8381b9e30",
   "metadata": {},
   "outputs": [],
   "source": [
    "lor = joblib.load('../Models/Logistic_Pipeline.pkl')\n",
    "x_test = joblib.load('../Models/x_test.pkl')\n",
    "y_test = joblib.load('../Models/y_test.pkl')"
   ]
  },
  {
   "cell_type": "markdown",
   "id": "1f299620-f2a9-4b1d-bbda-0a8366abef7e",
   "metadata": {},
   "source": [
    "#### Predicting using the Pipeline"
   ]
  },
  {
   "cell_type": "code",
   "execution_count": 3,
   "id": "b9f39df0-6565-4d26-b895-cb49e9bbe4aa",
   "metadata": {},
   "outputs": [],
   "source": [
    "y_pred = lor.predict(x_test)"
   ]
  },
  {
   "cell_type": "code",
   "execution_count": 4,
   "id": "ff248cd2-13fd-430f-9b28-f26ee22b994f",
   "metadata": {},
   "outputs": [
    {
     "data": {
      "text/plain": [
       "array([1, 0, 0, ..., 0, 0, 1], shape=(1409,))"
      ]
     },
     "execution_count": 4,
     "metadata": {},
     "output_type": "execute_result"
    }
   ],
   "source": [
    "y_pred"
   ]
  },
  {
   "cell_type": "markdown",
   "id": "e04f5dae-c562-47cb-b2f1-b8c880c36e1f",
   "metadata": {},
   "source": [
    "#### Actual and Predicted Values in DataFrame"
   ]
  },
  {
   "cell_type": "code",
   "execution_count": 5,
   "id": "c1617093-a705-488d-8853-c3e618f26716",
   "metadata": {},
   "outputs": [
    {
     "data": {
      "text/html": [
       "<div>\n",
       "<style scoped>\n",
       "    .dataframe tbody tr th:only-of-type {\n",
       "        vertical-align: middle;\n",
       "    }\n",
       "\n",
       "    .dataframe tbody tr th {\n",
       "        vertical-align: top;\n",
       "    }\n",
       "\n",
       "    .dataframe thead th {\n",
       "        text-align: right;\n",
       "    }\n",
       "</style>\n",
       "<table border=\"1\" class=\"dataframe\">\n",
       "  <thead>\n",
       "    <tr style=\"text-align: right;\">\n",
       "      <th></th>\n",
       "      <th>Actual</th>\n",
       "      <th>Predicted</th>\n",
       "    </tr>\n",
       "  </thead>\n",
       "  <tbody>\n",
       "    <tr>\n",
       "      <th>185</th>\n",
       "      <td>1</td>\n",
       "      <td>1</td>\n",
       "    </tr>\n",
       "    <tr>\n",
       "      <th>2715</th>\n",
       "      <td>0</td>\n",
       "      <td>0</td>\n",
       "    </tr>\n",
       "    <tr>\n",
       "      <th>3825</th>\n",
       "      <td>0</td>\n",
       "      <td>0</td>\n",
       "    </tr>\n",
       "    <tr>\n",
       "      <th>1807</th>\n",
       "      <td>1</td>\n",
       "      <td>1</td>\n",
       "    </tr>\n",
       "    <tr>\n",
       "      <th>132</th>\n",
       "      <td>0</td>\n",
       "      <td>0</td>\n",
       "    </tr>\n",
       "    <tr>\n",
       "      <th>...</th>\n",
       "      <td>...</td>\n",
       "      <td>...</td>\n",
       "    </tr>\n",
       "    <tr>\n",
       "      <th>6366</th>\n",
       "      <td>0</td>\n",
       "      <td>0</td>\n",
       "    </tr>\n",
       "    <tr>\n",
       "      <th>315</th>\n",
       "      <td>0</td>\n",
       "      <td>0</td>\n",
       "    </tr>\n",
       "    <tr>\n",
       "      <th>2439</th>\n",
       "      <td>0</td>\n",
       "      <td>0</td>\n",
       "    </tr>\n",
       "    <tr>\n",
       "      <th>5002</th>\n",
       "      <td>0</td>\n",
       "      <td>0</td>\n",
       "    </tr>\n",
       "    <tr>\n",
       "      <th>1161</th>\n",
       "      <td>1</td>\n",
       "      <td>1</td>\n",
       "    </tr>\n",
       "  </tbody>\n",
       "</table>\n",
       "<p>1409 rows × 2 columns</p>\n",
       "</div>"
      ],
      "text/plain": [
       "      Actual  Predicted\n",
       "185        1          1\n",
       "2715       0          0\n",
       "3825       0          0\n",
       "1807       1          1\n",
       "132        0          0\n",
       "...      ...        ...\n",
       "6366       0          0\n",
       "315        0          0\n",
       "2439       0          0\n",
       "5002       0          0\n",
       "1161       1          1\n",
       "\n",
       "[1409 rows x 2 columns]"
      ]
     },
     "execution_count": 5,
     "metadata": {},
     "output_type": "execute_result"
    }
   ],
   "source": [
    "comp = pd.DataFrame()\n",
    "comp['Actual'] = y_test\n",
    "comp['Predicted'] = y_pred\n",
    "comp"
   ]
  },
  {
   "cell_type": "markdown",
   "id": "e1230f7c-0510-441c-bb35-a40bdf2a7d54",
   "metadata": {},
   "source": [
    "#### Displaying number of Correct Predictions and Wrong Predictions"
   ]
  },
  {
   "cell_type": "code",
   "execution_count": 6,
   "id": "9da08713-4b7d-40f3-a63e-d7011f02e6e4",
   "metadata": {},
   "outputs": [
    {
     "name": "stdout",
     "output_type": "stream",
     "text": [
      "Number of Correct Predictions : 1149\n",
      "Number of Wrong Predictions : 260\n"
     ]
    }
   ],
   "source": [
    "print(f\"Number of Correct Predictions : {sum(comp['Actual'] == comp['Predicted'])}\")\n",
    "print(f\"Number of Wrong Predictions : {sum(comp['Actual'] != comp['Predicted'])}\")"
   ]
  },
  {
   "cell_type": "markdown",
   "id": "1c781b01-7a3c-4290-92ce-d90f193aa981",
   "metadata": {},
   "source": [
    "#### Displaying the Accuracy Score and Classificaion Report of the Model"
   ]
  },
  {
   "cell_type": "code",
   "execution_count": 7,
   "id": "2f31064e-4e1b-4de1-a5b4-4d3c05fc144c",
   "metadata": {},
   "outputs": [
    {
     "name": "stdout",
     "output_type": "stream",
     "text": [
      "Accuracy Score : 0.815471965933286\n"
     ]
    }
   ],
   "source": [
    "print(f'Accuracy Score : {accuracy_score(y_test,y_pred)}')"
   ]
  },
  {
   "cell_type": "code",
   "execution_count": 8,
   "id": "f3fea241-9fed-4c3b-b738-f9bd479aea1a",
   "metadata": {},
   "outputs": [
    {
     "name": "stdout",
     "output_type": "stream",
     "text": [
      "Classification Report : \n",
      "              precision    recall  f1-score   support\n",
      "\n",
      "           0       0.86      0.90      0.88      1036\n",
      "           1       0.68      0.58      0.62       373\n",
      "\n",
      "    accuracy                           0.82      1409\n",
      "   macro avg       0.77      0.74      0.75      1409\n",
      "weighted avg       0.81      0.82      0.81      1409\n",
      "\n"
     ]
    }
   ],
   "source": [
    "print(f'Classification Report : \\n{classification_report(y_test,y_pred)}')"
   ]
  },
  {
   "cell_type": "markdown",
   "id": "5ef5c11c-7a6b-4da0-9ad7-c03524306135",
   "metadata": {},
   "source": [
    "#### Displaying the Confusion Matrix and its Heatmap"
   ]
  },
  {
   "cell_type": "code",
   "execution_count": 9,
   "id": "8c4a7fef-3697-4af6-872d-96576e614e22",
   "metadata": {},
   "outputs": [
    {
     "name": "stdout",
     "output_type": "stream",
     "text": [
      "Confusion Matrix : \n",
      "[[933 103]\n",
      " [157 216]]\n"
     ]
    }
   ],
   "source": [
    "cm = confusion_matrix(y_test, y_pred)\n",
    "print(f'Confusion Matrix : \\n{cm}')"
   ]
  },
  {
   "cell_type": "code",
   "execution_count": 10,
   "id": "2faf4dd7-81fd-434e-ae14-e01ae7794e29",
   "metadata": {},
   "outputs": [
    {
     "data": {
      "image/png": "[encoded data removed]",
      "text/plain": [
       "<Figure size 640x480 with 2 Axes>"
      ]
     },
     "metadata": {},
     "output_type": "display_data"
    }
   ],
   "source": [
    "sns.heatmap(cm, annot=True, fmt='d', cmap='viridis', \n",
    "            xticklabels=['No Churn', 'Churn'], \n",
    "            yticklabels=['No Churn', 'Churn'])\n",
    "plt.xlabel('Predicted')\n",
    "plt.ylabel('Actual')\n",
    "plt.title('Confusion Matrix')\n",
    "plt.tight_layout()\n",
    "plt.show()"
   ]
  },
  {
   "cell_type": "code",
   "execution_count": 12,
   "id": "92209576",
   "metadata": {},
   "outputs": [],
   "source": [
    "customer_data = pd.Series({\n",
    "    \"gender\": \"Female\",\n",
    "    \"SeniorCitizen\": 0,\n",
    "    \"Partner\": \"Yes\",\n",
    "    \"Dependents\": \"No\",\n",
    "    \"tenure\": 1,\n",
    "    \"PhoneService\": \"No\",\n",
    "    \"MultipleLines\": \"No phone service\",\n",
    "    \"InternetService\": \"DSL\",\n",
    "    \"OnlineSecurity\": \"No\",\n",
    "    \"OnlineBackup\": \"Yes\",\n",
    "    \"DeviceProtection\": \"No\",\n",
    "    \"TechSupport\": \"No\",\n",
    "    \"StreamingTV\": \"No\",\n",
    "    \"StreamingMovies\": \"No\",\n",
    "    \"Contract\": \"Month-to-month\",\n",
    "    \"PaperlessBilling\": \"Yes\",\n",
    "    \"PaymentMethod\": \"Electronic check\",\n",
    "    \"MonthlyCharges\": 29.85,\n",
    "    \"TotalCharges\": 29.85\n",
    "})\n",
    "input_df = pd.DataFrame([customer_data])"
   ]
  },
  {
   "cell_type": "code",
   "execution_count": 14,
   "id": "0d329c2a",
   "metadata": {},
   "outputs": [
    {
     "ename": "ValueError",
     "evalue": "could not convert string to float: 'Female'",
     "output_type": "error",
     "traceback": [
      "\u001b[31m---------------------------------------------------------------------------\u001b[39m",
      "\u001b[31mValueError\u001b[39m                                Traceback (most recent call last)",
      "\u001b[32m~\\AppData\\Local\\Temp\\ipykernel_17616\\2422662410.py\u001b[39m in \u001b[36m?\u001b[39m\u001b[34m()\u001b[39m\n\u001b[32m----> \u001b[39m\u001b[32m1\u001b[39m prediction = lor.predict(input_df)\n\u001b[32m      2\u001b[39m print(\u001b[33m\"Predicted Churn:\"\u001b[39m, prediction[\u001b[32m0\u001b[39m])\n",
      "\u001b[32mc:\\Users\\samsa\\Documents\\Python\\Customer Churn\\churn\\Lib\\site-packages\\sklearn\\pipeline.py\u001b[39m in \u001b[36m?\u001b[39m\u001b[34m(self, X, **params)\u001b[39m\n\u001b[32m    782\u001b[39m             Xt = X\n\u001b[32m    783\u001b[39m \n\u001b[32m    784\u001b[39m             \u001b[38;5;28;01mif\u001b[39;00m \u001b[38;5;28;01mnot\u001b[39;00m _routing_enabled():\n\u001b[32m    785\u001b[39m                 \u001b[38;5;28;01mfor\u001b[39;00m _, name, transform \u001b[38;5;28;01min\u001b[39;00m self._iter(with_final=\u001b[38;5;28;01mFalse\u001b[39;00m):\n\u001b[32m--> \u001b[39m\u001b[32m786\u001b[39m                     Xt = transform.transform(Xt)\n\u001b[32m    787\u001b[39m                 \u001b[38;5;28;01mreturn\u001b[39;00m self.steps[-\u001b[32m1\u001b[39m][\u001b[32m1\u001b[39m].predict(Xt, **params)\n\u001b[32m    788\u001b[39m \n\u001b[32m    789\u001b[39m             \u001b[38;5;66;03m# metadata routing enabled\u001b[39;00m\n",
      "\u001b[32mc:\\Users\\samsa\\Documents\\Python\\Customer Churn\\churn\\Lib\\site-packages\\sklearn\\utils\\_set_output.py\u001b[39m in \u001b[36m?\u001b[39m\u001b[34m(self, X, *args, **kwargs)\u001b[39m\n\u001b[32m    314\u001b[39m     @wraps(f)\n\u001b[32m    315\u001b[39m     \u001b[38;5;28;01mdef\u001b[39;00m wrapped(self, X, *args, **kwargs):\n\u001b[32m--> \u001b[39m\u001b[32m316\u001b[39m         data_to_wrap = f(self, X, *args, **kwargs)\n\u001b[32m    317\u001b[39m         \u001b[38;5;28;01mif\u001b[39;00m isinstance(data_to_wrap, tuple):\n\u001b[32m    318\u001b[39m             \u001b[38;5;66;03m# only wrap the first output for cross decomposition\u001b[39;00m\n\u001b[32m    319\u001b[39m             return_tuple = (\n",
      "\u001b[32mc:\\Users\\samsa\\Documents\\Python\\Customer Churn\\churn\\Lib\\site-packages\\sklearn\\preprocessing\\_data.py\u001b[39m in \u001b[36m?\u001b[39m\u001b[34m(self, X, copy)\u001b[39m\n\u001b[32m   1071\u001b[39m         \"\"\"\n\u001b[32m   1072\u001b[39m         check_is_fitted(self)\n\u001b[32m   1073\u001b[39m \n\u001b[32m   1074\u001b[39m         copy = copy \u001b[38;5;28;01mif\u001b[39;00m copy \u001b[38;5;28;01mis\u001b[39;00m \u001b[38;5;28;01mnot\u001b[39;00m \u001b[38;5;28;01mNone\u001b[39;00m \u001b[38;5;28;01melse\u001b[39;00m self.copy\n\u001b[32m-> \u001b[39m\u001b[32m1075\u001b[39m         X = validate_data(\n\u001b[32m   1076\u001b[39m             self,\n\u001b[32m   1077\u001b[39m             X,\n\u001b[32m   1078\u001b[39m             reset=\u001b[38;5;28;01mFalse\u001b[39;00m,\n",
      "\u001b[32mc:\\Users\\samsa\\Documents\\Python\\Customer Churn\\churn\\Lib\\site-packages\\sklearn\\utils\\validation.py\u001b[39m in \u001b[36m?\u001b[39m\u001b[34m(_estimator, X, y, reset, validate_separately, skip_check_array, **check_params)\u001b[39m\n\u001b[32m   2950\u001b[39m             out = y\n\u001b[32m   2951\u001b[39m         \u001b[38;5;28;01melse\u001b[39;00m:\n\u001b[32m   2952\u001b[39m             out = X, y\n\u001b[32m   2953\u001b[39m     \u001b[38;5;28;01melif\u001b[39;00m \u001b[38;5;28;01mnot\u001b[39;00m no_val_X \u001b[38;5;28;01mand\u001b[39;00m no_val_y:\n\u001b[32m-> \u001b[39m\u001b[32m2954\u001b[39m         out = check_array(X, input_name=\u001b[33m\"X\"\u001b[39m, **check_params)\n\u001b[32m   2955\u001b[39m     \u001b[38;5;28;01melif\u001b[39;00m no_val_X \u001b[38;5;28;01mand\u001b[39;00m \u001b[38;5;28;01mnot\u001b[39;00m no_val_y:\n\u001b[32m   2956\u001b[39m         out = _check_y(y, **check_params)\n\u001b[32m   2957\u001b[39m     \u001b[38;5;28;01melse\u001b[39;00m:\n",
      "\u001b[32mc:\\Users\\samsa\\Documents\\Python\\Customer Churn\\churn\\Lib\\site-packages\\sklearn\\utils\\validation.py\u001b[39m in \u001b[36m?\u001b[39m\u001b[34m(array, accept_sparse, accept_large_sparse, dtype, order, copy, force_writeable, force_all_finite, ensure_all_finite, ensure_non_negative, ensure_2d, allow_nd, ensure_min_samples, ensure_min_features, estimator, input_name)\u001b[39m\n\u001b[32m   1050\u001b[39m                         )\n\u001b[32m   1051\u001b[39m                     array = xp.astype(array, dtype, copy=\u001b[38;5;28;01mFalse\u001b[39;00m)\n\u001b[32m   1052\u001b[39m                 \u001b[38;5;28;01melse\u001b[39;00m:\n\u001b[32m   1053\u001b[39m                     array = _asarray_with_order(array, order=order, dtype=dtype, xp=xp)\n\u001b[32m-> \u001b[39m\u001b[32m1054\u001b[39m             \u001b[38;5;28;01mexcept\u001b[39;00m ComplexWarning \u001b[38;5;28;01mas\u001b[39;00m complex_warning:\n\u001b[32m   1055\u001b[39m                 raise ValueError(\n\u001b[32m   1056\u001b[39m                     \u001b[33m\"Complex data not supported\\n{}\\n\"\u001b[39m.format(array)\n\u001b[32m   1057\u001b[39m                 ) from complex_warning\n",
      "\u001b[32mc:\\Users\\samsa\\Documents\\Python\\Customer Churn\\churn\\Lib\\site-packages\\sklearn\\utils\\_array_api.py\u001b[39m in \u001b[36m?\u001b[39m\u001b[34m(array, dtype, order, copy, xp, device)\u001b[39m\n\u001b[32m    753\u001b[39m         \u001b[38;5;66;03m# Use NumPy API to support order\u001b[39;00m\n\u001b[32m    754\u001b[39m         \u001b[38;5;28;01mif\u001b[39;00m copy \u001b[38;5;28;01mis\u001b[39;00m \u001b[38;5;28;01mTrue\u001b[39;00m:\n\u001b[32m    755\u001b[39m             array = numpy.array(array, order=order, dtype=dtype)\n\u001b[32m    756\u001b[39m         \u001b[38;5;28;01melse\u001b[39;00m:\n\u001b[32m--> \u001b[39m\u001b[32m757\u001b[39m             array = numpy.asarray(array, order=order, dtype=dtype)\n\u001b[32m    758\u001b[39m \n\u001b[32m    759\u001b[39m         \u001b[38;5;66;03m# At this point array is a NumPy ndarray. We convert it to an array\u001b[39;00m\n\u001b[32m    760\u001b[39m         \u001b[38;5;66;03m# container that is consistent with the input's namespace.\u001b[39;00m\n",
      "\u001b[32mc:\\Users\\samsa\\Documents\\Python\\Customer Churn\\churn\\Lib\\site-packages\\pandas\\core\\generic.py\u001b[39m in \u001b[36m?\u001b[39m\u001b[34m(self, dtype, copy)\u001b[39m\n\u001b[32m   2164\u001b[39m             )\n\u001b[32m   2165\u001b[39m         values = self._values\n\u001b[32m   2166\u001b[39m         \u001b[38;5;28;01mif\u001b[39;00m copy \u001b[38;5;28;01mis\u001b[39;00m \u001b[38;5;28;01mNone\u001b[39;00m:\n\u001b[32m   2167\u001b[39m             \u001b[38;5;66;03m# Note: branch avoids `copy=None` for NumPy 1.x support\u001b[39;00m\n\u001b[32m-> \u001b[39m\u001b[32m2168\u001b[39m             arr = np.asarray(values, dtype=dtype)\n\u001b[32m   2169\u001b[39m         \u001b[38;5;28;01melse\u001b[39;00m:\n\u001b[32m   2170\u001b[39m             arr = np.array(values, dtype=dtype, copy=copy)\n\u001b[32m   2171\u001b[39m \n",
      "\u001b[31mValueError\u001b[39m: could not convert string to float: 'Female'"
     ]
    }
   ],
   "source": [
    "prediction = lor.predict(input_df)\n",
    "print(\"Predicted Churn:\", prediction[0])"
   ]
  },
  {
   "cell_type": "code",
   "execution_count": null,
   "id": "bada3bc2",
   "metadata": {},
   "outputs": [],
   "source": []
  }
 ],
 "metadata": {
  "kernelspec": {
   "display_name": "churn",
   "language": "python",
   "name": "python3"
  },
  "language_info": {
   "codemirror_mode": {
    "name": "ipython",
    "version": 3
   },
   "file_extension": ".py",
   "mimetype": "text/x-python",
   "name": "python",
   "nbconvert_exporter": "python",
   "pygments_lexer": "ipython3",
   "version": "3.11.0"
  }
 },
 "nbformat": 4,
 "nbformat_minor": 5
}
